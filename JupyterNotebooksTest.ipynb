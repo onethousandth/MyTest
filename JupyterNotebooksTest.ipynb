{
 "nbformat": 4,
 "nbformat_minor": 2,
 "metadata": {
  "language_info": {
   "name": "python",
   "codemirror_mode": {
    "name": "ipython",
    "version": 3
   },
   "version": "3.7.4-final"
  },
  "orig_nbformat": 2,
  "file_extension": ".py",
  "mimetype": "text/x-python",
  "name": "python",
  "npconvert_exporter": "python",
  "pygments_lexer": "ipython3",
  "version": 3,
  "kernelspec": {
   "name": "python37464bitbaseconda6934136769ca4c15b923072588839bd5",
   "display_name": "Python 3.7.4 64-bit ('base': conda)"
  }
 },
 "cells": [
  {
   "cell_type": "code",
   "execution_count": 3,
   "metadata": {},
   "outputs": [
    {
     "name": "stdout",
     "output_type": "stream",
     "text": "Hello World!\n"
    }
   ],
   "source": [
    "# -*- coding:utf-8 -*-\n",
    "#\n",
    "# Copyright (C) AddyXiao <addyxiao@msn.cn>\n",
    "#\n",
    "\n",
    "\"A Test of Hello World!\"\n",
    "\n",
    "__Author__=\"AddyXiao\"\n",
    "__Author_Email__=\"addyxiao@msn.cn\"\n",
    "\n",
    "msg=\"Hello World!\"\n",
    "\n",
    "print(msg)"
   ]
  },
  {
   "cell_type": "code",
   "execution_count": null,
   "metadata": {},
   "outputs": [],
   "source": []
  }
 ]
}